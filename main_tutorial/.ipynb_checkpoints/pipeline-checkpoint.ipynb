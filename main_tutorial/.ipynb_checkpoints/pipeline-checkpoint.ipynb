{
 "cells": [
  {
   "cell_type": "markdown",
   "metadata": {},
   "source": [
    "## SECTION 0 - SET UP"
   ]
  },
  {
   "cell_type": "markdown",
   "metadata": {},
   "source": [
    "1. Make sure that all your python and image files are in the same directory.\n",
    "\n",
    "2. Remember that you can develop this pipeline using a) a simple text editor and running it on the terminal, b) using Spyder or c) a Jupyter notebook. For all of them, you need to navigate to the directory where all your files are saved.\n",
    "    \n",
    "    * On the terminal, type cd dir_path, replacing dir_path for the path of the directory\n",
    "    * On Spyder and Jupyter nootebook it can be done interactively.\n"
   ]
  },
  {
   "cell_type": "code",
   "execution_count": null,
   "metadata": {
    "collapsed": true
   },
   "outputs": [],
   "source": []
  }
 ],
 "metadata": {
  "kernelspec": {
   "display_name": "Python 2",
   "language": "python",
   "name": "python2"
  },
  "language_info": {
   "codemirror_mode": {
    "name": "ipython",
    "version": 2
   },
   "file_extension": ".py",
   "mimetype": "text/x-python",
   "name": "python",
   "nbconvert_exporter": "python",
   "pygments_lexer": "ipython2",
   "version": "2.7.11"
  }
 },
 "nbformat": 4,
 "nbformat_minor": 0
}
